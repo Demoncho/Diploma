# ---------- Генерация картинок с текста ----------
ExcellentModule = __import__('drive.My Drive.RHCR_master.synthetic_data_generation.letterbox_refs')

import os
import sys
import logging
import argparse
import traceback
from random import choice, sample
from functools import partial
from multiprocessing import Pool
from PIL import Image, ImageDraw, ImageFont
import csv
from matplotlib.pyplot import imshow

logging.basicConfig(filemode='w',
                    format='[%(module)s:%(lineno)d] %(asctime)s - [%(levelname)s] - %(message)s',
                    datefmt='%d-%b-%Y %H:%M:%S',
                    level=logging.DEBUG)
logger = logging.getLogger(__name__)

def format_line(line, max_width=90):
    line = line.split()
    while len(line) > 0:
        out = line[0]
        line = line[1:]
        while len(line) > 0 and len(out) + len(line[0]) + 1 < max_width:
            out = " ".join([out, line[0]])
            line = line[1:]
        yield out

def get_doc_dimensions(doc, font, side_margin, header_margin, line_buffer):
    img = Image.new('L', (1, 1), 255)
    draw = ImageDraw.Draw(img)
    max_width = 0
    current_y = 0
    for line in doc:
        text_w, text_h = draw.textsize(line, font=font)
        if text_w > max_width:
            max_width = text_w
        current_y = current_y + text_h + line_buffer
    
    width = max_width + (side_margin * 2)
    height = current_y + (header_margin * 2)

    return width, height

def generate_responses(word, current_x, current_y, font, 
                        connected_width, doc_id):
    box_tuner = 8

    responses = []
    responcesWord = []

    img = Image.new('L', (1, 1), 255)
    draw = ImageDraw.Draw(img)

    unconnected_width = 0
    for letter in word:
        text_w, text_h = draw.textsize(letter, font=font)
        unconnected_width += text_w

    prop = connected_width / unconnected_width

    aaa = current_x
    bbb = current_y
    ccc = current_y

    for letter in word:
        text_w, text_h = draw.textsize(letter, font=font)
        responses.append([doc_id, 
                          current_x - box_tuner, 
                          current_y - box_tuner, 
                          current_x + int(text_w * prop) + box_tuner, 
                          current_y + text_h + box_tuner, 
                          letter])
        current_x = current_x + int(text_w * prop)
        if (ccc < current_y + text_h):
            ccc = current_y + text_h

    responcesWord.append([doc_id, 
                        aaa - box_tuner, 
                        bbb - box_tuner, 
                        current_x + box_tuner, 
                        ccc + box_tuner, 
                        word])

    return responses, responcesWord

def txt_to_cursive_img(doc, out_path):

    logger.debug(f'generating cursive text image to {out_path}')
    line_buffer = 15

    side_margin = 40
    header_margin = 40

    fonts = os.listdir("/content/drive/My Drive/RHCR_master/synthetic_data_generation/fonts")
    font = ImageFont.truetype(f"/content/drive/My Drive/RHCR_master/synthetic_data_generation/fonts/{choice(fonts)}", 120)

    width, height = get_doc_dimensions(doc, font, side_margin, header_margin, line_buffer)

    outputFile1 = out_path.split("/")[:-1]
    s = "/"
    s = s.join(outputFile1)

    outputImages = "/content/drive/My Drive/images_words/"
    outputCsv = "/content/drive/My Drive/csv_words/"
    fileName = out_path.split("/")[-1].split(".")[0]

    if not os.path.isdir(outputImages):
      os.mkdir(outputImages)
    if not os.path.isdir(outputCsv):
      os.mkdir(outputCsv)

    identifier = 0

    img = Image.new('L', (width, height), 255)
    artist = ImageDraw.Draw(img)

    current_y = 0 + header_margin
    current_x = 0 + side_margin
    space = 25

    responses = []

    for line in doc:
        max_height = 0
        for word in line.split():
            text_w, text_h = artist.textsize(word, font=font)
            if text_h > max_height:
                max_height = text_h

            imgWord = Image.new('L', (text_w + 2 * side_margin, text_h + 2 * header_margin), 255)
            artistWord = ImageDraw.Draw(imgWord) 

            artist.text((current_x, current_y), word, font=font, fill=0)

            artistWord.text((side_margin, header_margin), word, font=font, fill=0)

            boxes, boxesWord = generate_responses(word, current_x, current_y, font, 
                        text_w, out_path)
            
            if args.viz:
                for box in boxes:
                    artist.rectangle(((box[1], box[2]),(box[3],box[4])), width=0, outline=0)
                for box in boxesWord:
                    artistWord.rectangle(((box[1], box[2]),(box[3],box[4])), width=0, outline=0)
            imagePath = outputImages + fileName + f"_{str(identifier).zfill(7)}.png"
            csvPath = outputCsv + fileName + f"_{str(identifier).zfill(7)}.csv"
            imgWord.save(imagePath)
            with open(csvPath, "w") as tf:
              writer = csv.writer(tf)
              writer.writerows(boxesWord)
            identifier += 1
            responses.extend(boxes)
            current_x = current_x + text_w + space
        current_x = side_margin
        current_y = current_y + max_height + line_buffer

    font_out = font.path.split('/')[-1]

    return img, responses, font_out
    
def generate_file(inputFile, outputFile, targetFile=None): 

    if targetFile is None:
        targetFile = outputFile.split('.')[0] + '_targets.csv'
    supported_formats = ["eps", "jpeg", "jpg", "pdf", "pgf", "png", "ps", 
                            "raw", "rgba", "svg", "svgz", "tif", "tiff"]
    if args.outputFile.split(".")[1] not in supported_formats:
        args.outputFile = "".join([args.outputFile, ".png"])
        logger.warn(f'invalid outputFile format, using png instead. please use one of the following formats: {supported_formats}')
    doc = []
    with open(inputFile, "r") as handle:
        for line in handle:
            for frmtd_line in format_line(line):
                doc.append(frmtd_line)
    logger.debug(f'converting string doc to cursive images for {inputFile}')
    try:
        out, responses, font = txt_to_cursive_img(doc, outputFile)
        out.save(outputFile)
        with open(targetFile, "w") as tf:
            writer = csv.writer(tf)
            writer.writerows(responses)
    except:
        logger.exception(f'failed to generate a cursive image into file {outputFile}')
        raise

    return True

# Get command line args
parser = argparse.ArgumentParser()
parser.add_argument("-i", "--inputFile", type=str)
parser.add_argument("-o", "--outputFile", default="test.png", type=str)
parser.add_argument("-d", "--dir", default="/content/drive/My Drive/Good wiki text" )
parser.add_argument("-v", "--viz", action='store_true')
parser.add_argument("-c", "--count", type=int)
parser.add_argument("-f", "--force", action='store_true')
global args
args = parser.parse_args(args=[])

if args.dir:
    outDir = "/content/drive/My Drive/images_output_1"
    try:
        os.mkdir(outDir)
    except FileExistsError:
        response = False
        if not args.force:
            response = input(f'Delete all files in directory {outDir} [y/n]?       ')
            response = response.lower().strip()[0] == 'y'
        if response or args.force:
            for f in os.listdir(outDir):
                os.remove(f"{outDir}/{f}")

    dirlist = os.listdir(args.dir)
    if args.count:
        dirlist = sample(dirlist, args.count)
        
    infiles =  (f"{args.dir}/{f}" for f in dirlist)

    def to_png(filename):
        splits = filename.split('.')
        return f"{splits[0]}.png"
    outfiles =  (f"{outDir}/{to_png(f)}" for f in dirlist)        
           
    logger.info=(f'starting multiprocess pool iterating over files in {args.dir}')
    pool = Pool(4)
    results = pool.starmap(generate_file, zip(infiles, outfiles))