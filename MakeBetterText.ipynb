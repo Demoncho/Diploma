# ---------- Улучшения текста с источника ----------
from random import random, randint
import logging
from logging.handlers import RotatingFileHandler
import argparse
import os
global log

identifier = 0

valid_letters = "абвгдеёжзийклмнопрстуфхцчшщъыьэюяАБВГДЕЁЖЗИЙКЛМНОПРСТУФХЦЧШЩЪЫЬЭЮЯ "

def random_punctuator(word):
    if random() < .08:
        return "".join([word, ","])
    if random() < .066:
        return "".join([word, "."])
    if random() < .02:
        return "".join([word, "?"])
    if random() < .04:
        if random() < .51:
            if random() < .51:
                return "".join([word, '"'])
            else:
                return "".join(['"', word])
        else:
            return "".join([word, " - "])
    return word

def format_line(line, max_width=50):
    try:
        line = line.split()
        while len(line) > 0:
            out = random_punctuator(line[0])
            line = line[1:]
            while len(line) > 0 and len(out) + len(line[0]) + 1 < max_width:
                out = " ".join([out, random_punctuator(line[0])])
                line = line[1:]
            yield out
    except:
        log.exception(f'format_line failed on line: {line}')

def write_to_text(inputFile):
    correctPathInputFile = "/content/drive/My Drive/Files from wiki/" + inputFile
    out =  ""
    global identifier
    page_len = randint(0,1000)
    with open(correctPathInputFile, "r") as fp:
        for line in fp:
            if len(out) > page_len:
                page_len = randint(0,1000)
                outFile = f"/content/drive/My Drive/Good wiki text/ruwiki_clean_{str(identifier).zfill(7)}.txt"
                log.debug(f"writing to output file: {outFile}")

                curpath = os.path.abspath(os.curdir)
                print ("Current path is: %s" % (curpath))
                print ("Trying to open: %s" % (os.path.join(curpath, outFile)))

                with open(outFile, "w") as fp:
                    for out_line in format_line(out): 
                        fp.write("".join([out_line, "\n"]))
                identifier += 1
                out = ""
            line_out = ""
            for char in line:
                if char in valid_letters:
                    line_out = "".join([line_out, char])    
            line_out = line_out.split()
            if random() < .007:
                line_out.append(str(randint(0, 10000)))
            line_out = " ".join(line_out)
            if line_out:        
                out = " ".join([out, line_out])
    log.info(f'generated text for {identifier} files')

def getArgs():
    parser = argparse.ArgumentParser()
    parser.add_argument('-i', '--inputFiles', nargs='+', type=str, default='text_sample.txt')
    parser.add_argument('-o', '--outputFile', nargs=1, type=str, default='parsed.txt')
    return parser.parse_args(args=[])

def getLog():
    logfile = 'log_parse_ru_wiki'
    logging.basicConfig(
            format='[%(levelname)s] - [%(module)s:%(lineno)d] %(asctime)s - %(message)s',
            level=logging.DEBUG,
            datefmt='%Y-%m-%d %H:%M:%S')
    log = logging.getLogger(logfile)
    log.addHandler(RotatingFileHandler(logfile, mode='a', backupCount=3))
    log.handlers[0].doRollover()
    return log

global log
log = getLog()
files = os.listdir("/content/drive/My Drive/Files from wiki")
for inputFile in files:
  log.info(f'running on input {inputFile}')
  write_to_text(inputFile)