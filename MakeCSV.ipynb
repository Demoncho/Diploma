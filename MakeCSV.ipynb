# ---------- Объединение в один csv ----------
import os
import glob
import pandas as pd
import csv

dirList = os.listdir('/content/drive/My Drive/final_csv')
dirList.sort()

fout=open('/content/drive/My Drive/final_csv/out.csv',"w")
for file in dirList:
  if file.split('.')[-1] == 'csv':
    r = csv.reader(open('/content/drive/My Drive/final_csv/' + file))
    lines = list(r)
    if lines[0][0] != file.split('.')[0] + '.png':
      lines[0][0] = file.split('.')[0] + '.png'
      with open('/content/drive/My Drive/final_csv/' + file, 'w') as outfile:
        writer = csv.writer(outfile)
        writer.writerows(lines)
        outfile.close()
    for line in open('/content/drive/My Drive/final_csv/' + file):
      fout.write(line)
fout.close()

# ---------- csv to txt ----------
csv_file = '/content/drive/My Drive/data/out.csv'
txt_file = '/content/drive/My Drive/data/words.txt'
with open(txt_file, "w") as my_output_file:
    with open(csv_file, "r") as my_input_file:
        [ my_output_file.write(" ".join(row)+'\n') for row in csv.reader(my_input_file)]
    my_output_file.close()